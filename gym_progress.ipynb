{
 "cells": [
  {
   "cell_type": "code",
   "execution_count": 66,
   "metadata": {},
   "outputs": [],
   "source": [
    "import pandas as pd\n",
    "import numpy as np\n",
    "import gspread\n",
    "import oauth2client.client, oauth2client.file, oauth2client.tools\n",
    "import json"
   ]
  },
  {
   "cell_type": "code",
   "execution_count": 67,
   "metadata": {},
   "outputs": [],
   "source": [
    "gc = gspread.service_account(filename='creds/lifts-service.json')\n"
   ]
  },
  {
   "cell_type": "code",
   "execution_count": 68,
   "metadata": {},
   "outputs": [
    {
     "data": {
      "text/plain": [
       "[<Worksheet '04/01/2022' id:0>,\n",
       " <Worksheet '29/01/22' id:307277220>,\n",
       " <Worksheet '13/02/22' id:167887834>,\n",
       " <Worksheet '28/02/22' id:1331411127>,\n",
       " <Worksheet '15/03/22 DELOAD' id:585663713>,\n",
       " <Worksheet '28/03/22' id:661285306>,\n",
       " <Worksheet '11/04/22' id:1533557140>,\n",
       " <Worksheet '04/05/22' id:789390216>,\n",
       " <Worksheet '17/05/2022' id:1263314912>,\n",
       " <Worksheet '04/06/2022' id:1037833865>,\n",
       " <Worksheet '19/06/2022' id:1070839500>,\n",
       " <Worksheet '02/07/2022' id:1830989469>,\n",
       " <Worksheet '17/07/2022' id:1304829489>,\n",
       " <Worksheet '30/07/2022' id:286974438>]"
      ]
     },
     "execution_count": 68,
     "metadata": {},
     "output_type": "execute_result"
    }
   ],
   "source": [
    "sheet = gc.open_by_key('1Y6cVf0_oyY4xDz_Fq_NXcMjxpsmGClZCt8hDw3RIqkM')\n",
    "all_worksheets = sheet.worksheets()\n",
    "all_worksheets"
   ]
  },
  {
   "cell_type": "code",
   "execution_count": 88,
   "metadata": {},
   "outputs": [
    {
     "data": {
      "text/plain": [
       "['2x10-12 Leg Curls',\n",
       " '2x10-12 Leg Extensions',\n",
       " '2x10-15 Chest Flys - DB',\n",
       " '2x10-15 Chest Flys - machine',\n",
       " '2x12-15 Bicep Isolation - DB Hammer',\n",
       " '2x12-15 Bicep Isolation - DB Waiter curl',\n",
       " '2x12-15 Dips',\n",
       " '2x12-15 Tricep Isolation - Tricep Pushdowns',\n",
       " '2x12-15 Tricep Isolation - ez bar skull crusher',\n",
       " '3x10-12 Bicep Isolation - DB curl (incline bench)',\n",
       " '3x10-12 Bicep Isolation - ez Bar Curl',\n",
       " '3x10-12 Tricep Isolation - Tricep Pushdown',\n",
       " '3x10-12 Tricep Isolation - ez bar skull crushers',\n",
       " '3x10-15 Lateral Raises - Cable',\n",
       " '3x10-15 Lateral Raises - DB',\n",
       " '3x10-15 Rear Delts - Face Pulls',\n",
       " '3x12-15 Bicep Isolation - DB Waiter curl',\n",
       " '3x5-8 Bench Press',\n",
       " '3x5-8 Rows - Barbell',\n",
       " '3x5-8 Rows - Pendlay',\n",
       " '3x6-8 BB Hip Thrusts',\n",
       " '3x6-8 Bench Press (close grip)',\n",
       " '3x6-8 Incline Press - Barbell',\n",
       " '3x6-8 Incline Press - Smith',\n",
       " '3x6-8 Leg Press',\n",
       " '3x6-8 OHP',\n",
       " '3x6-8 Pull Ups',\n",
       " '3x6-8 RDL - Barbell',\n",
       " '3x6-8 RDL - DB',\n",
       " '3x6-8 Squats - High Bar',\n",
       " '3x6-8 Squats - Low Bar',\n",
       " '3x8-10 Arnie Press',\n",
       " '3x8-10 BB Hip Thrusts',\n",
       " '3x8-10 Bench Press (close grip)',\n",
       " '3x8-10 Bench Press (decline)',\n",
       " '3x8-10 Bench Press - DB',\n",
       " '3x8-10 DB Shrugs',\n",
       " '3x8-10 Incline Press - DB',\n",
       " '3x8-10 Leg Curls',\n",
       " '3x8-10 Lunges',\n",
       " '3x8-10 OHP',\n",
       " '3x8-10 Pull Downs',\n",
       " '3x8-10 Rows - Cable',\n",
       " '3x8-10 Rows - DB',\n",
       " '3x8-10 Rows - Pendlay',\n",
       " '3x8-10 Split Squat',\n",
       " '3x8-10 Split Squat / Lunges',\n",
       " '3x8-10 plate press',\n",
       " '4x10-15 Calf Raises - Seated',\n",
       " '4x10-15 Calf Raises - Standing',\n",
       " '4x6-8 Calf Raises - Seated',\n",
       " '4x6-8 Calf Raises - Standing']"
      ]
     },
     "execution_count": 88,
     "metadata": {},
     "output_type": "execute_result"
    }
   ],
   "source": [
    "exercises = set()\n",
    "for ws in all_worksheets:\n",
    "    exe = ws.col_values(1)\n",
    "    for e in exe:\n",
    "\n",
    "        exercises.add(e)\n",
    "\n",
    "exercises = list(exercises)\n",
    "exercises_only = []\n",
    "\n",
    "[exercises_only.append(ex) for ex in list(filter(None, exercises)) if ex[0].isdigit()]\n",
    "\n",
    "exercises_only.sort()\n",
    "exercises_only"
   ]
  },
  {
   "cell_type": "code",
   "execution_count": 86,
   "metadata": {},
   "outputs": [
    {
     "name": "stdout",
     "output_type": "stream",
     "text": [
      "2\n"
     ]
    },
    {
     "ename": "IndexError",
     "evalue": "string index out of range",
     "output_type": "error",
     "traceback": [
      "\u001b[0;31m---------------------------------------------------------------------------\u001b[0m",
      "\u001b[0;31mIndexError\u001b[0m                                Traceback (most recent call last)",
      "\u001b[1;32m/home/byaga/dev/lifts/gym_progress.ipynb Cell 5\u001b[0m in \u001b[0;36m<cell line: 7>\u001b[0;34m()\u001b[0m\n\u001b[1;32m     <a href='vscode-notebook-cell:/home/byaga/dev/lifts/gym_progress.ipynb#X10sZmlsZQ%3D%3D?line=18'>19</a>\u001b[0m weight \u001b[39m=\u001b[39m row[\u001b[39m1\u001b[39m]\n\u001b[1;32m     <a href='vscode-notebook-cell:/home/byaga/dev/lifts/gym_progress.ipynb#X10sZmlsZQ%3D%3D?line=19'>20</a>\u001b[0m reps \u001b[39m=\u001b[39m \u001b[39mlist\u001b[39m()\n\u001b[0;32m---> <a href='vscode-notebook-cell:/home/byaga/dev/lifts/gym_progress.ipynb#X10sZmlsZQ%3D%3D?line=20'>21</a>\u001b[0m \u001b[39mfor\u001b[39;00m i \u001b[39min\u001b[39;00m \u001b[39mrange\u001b[39m(\u001b[39m2\u001b[39m, \u001b[39m2\u001b[39m\u001b[39m+\u001b[39m\u001b[39mint\u001b[39m(row[\u001b[39m0\u001b[39;49m][\u001b[39m0\u001b[39;49m])):\n\u001b[1;32m     <a href='vscode-notebook-cell:/home/byaga/dev/lifts/gym_progress.ipynb#X10sZmlsZQ%3D%3D?line=21'>22</a>\u001b[0m     \u001b[39mtry\u001b[39;00m:\n\u001b[1;32m     <a href='vscode-notebook-cell:/home/byaga/dev/lifts/gym_progress.ipynb#X10sZmlsZQ%3D%3D?line=22'>23</a>\u001b[0m         reps\u001b[39m.\u001b[39mappend(row[i])\n",
      "\u001b[0;31mIndexError\u001b[0m: string index out of range"
     ]
    }
   ],
   "source": [
    "import time\n",
    "\n",
    "test = ['3x5-8 Bench Press', '2x10-12 Leg Curls']\n",
    "\n",
    "li = []\n",
    "\n",
    "for ex in exercises_only: \n",
    "\n",
    "    record = {\n",
    "        \"exercise\": ex,\n",
    "        \"progress\": []\n",
    "    }\n",
    "    print(ex)\n",
    "    time.sleep(15)\n",
    "    for ws in all_worksheets:\n",
    "        result_row_cell = ws.findall(ex)\n",
    "        for cell in result_row_cell:\n",
    "            row = ws.row_values(cell.row)\n",
    "            weight = row[1]\n",
    "            reps = list()\n",
    "            for i in range(2, 2+int(row[0][0])):\n",
    "                try:\n",
    "                    reps.append(row[i])\n",
    "                except(IndexError):\n",
    "                    print('No value for rep_number {rep_number} for {exercise} on {worksheet}'.format(rep_number=str(i-1), exercise=ex, worksheet=ws.title))\n",
    "                    pass\n",
    "\n",
    "            record[\"progress\"].append({\n",
    "                \"weight\": weight,\n",
    "                \"reps\": reps,\n",
    "                \"date\": ws.title\n",
    "            })\n",
    "\n",
    "    li.append(record)\n",
    "\n",
    "li\n",
    "\n",
    "\n",
    "\n",
    "            "
   ]
  },
  {
   "cell_type": "code",
   "execution_count": 70,
   "metadata": {},
   "outputs": [
    {
     "data": {
      "text/plain": [
       "['Arnie Press',\n",
       " 'BB Hip Thrusts',\n",
       " 'Bench Press',\n",
       " 'Bench Press (close grip)',\n",
       " 'Bench Press (decline)',\n",
       " 'Bench Press - DB',\n",
       " 'Bicep Isolation - DB Hammer',\n",
       " 'Bicep Isolation - DB Waiter curl',\n",
       " 'Bicep Isolation - DB curl (incline bench)',\n",
       " 'Bicep Isolation - ez Bar Curl',\n",
       " 'Calf Raises - Seated',\n",
       " 'Calf Raises - Standing',\n",
       " 'Chest Flys - DB',\n",
       " 'Chest Flys - machine',\n",
       " 'DB Shrugs',\n",
       " 'Dips',\n",
       " 'Incline Press - Barbell',\n",
       " 'Incline Press - DB',\n",
       " 'Incline Press - Smith',\n",
       " 'Lateral Raises - Cable',\n",
       " 'Lateral Raises - DB',\n",
       " 'Leg Curls',\n",
       " 'Leg Extensions',\n",
       " 'Leg Press',\n",
       " 'Lunges',\n",
       " 'OHP',\n",
       " 'Pull Downs',\n",
       " 'Pull Ups',\n",
       " 'RDL - Barbell',\n",
       " 'RDL - DB',\n",
       " 'Rear Delts - Face Pulls',\n",
       " 'Rows - Barbell',\n",
       " 'Rows - Cable',\n",
       " 'Rows - DB',\n",
       " 'Rows - Pendlay',\n",
       " 'Split Squat',\n",
       " 'Split Squat / Lunges',\n",
       " 'Squats - High Bar',\n",
       " 'Squats - Low Bar',\n",
       " 'Tricep Isolation - Tricep Pushdown',\n",
       " 'Tricep Isolation - Tricep Pushdowns',\n",
       " 'Tricep Isolation - ez bar skull crusher',\n",
       " 'Tricep Isolation - ez bar skull crushers',\n",
       " 'plate press']"
      ]
     },
     "execution_count": 70,
     "metadata": {},
     "output_type": "execute_result"
    }
   ],
   "source": [
    "exercises_only = []\n",
    "\n",
    "[exercises_only.append(ex) for ex in list(filter(None, exercises)) if ex[0].isdigit()]\n",
    "\n",
    "exercises_only.sort()\n",
    "\n",
    "no_sets = list()\n",
    "\n",
    "for ex in exercises_only:\n",
    "    split = ex.split(\" \")\n",
    "    joined = ' '.join(split[1:])\n",
    "    no_sets.append(joined)\n",
    "\n",
    "\n",
    "unique = set(no_sets)\n",
    "unique = list(unique)\n",
    "unique.sort()\n",
    "unique"
   ]
  }
 ],
 "metadata": {
  "kernelspec": {
   "display_name": "Python 3.10.5 64-bit",
   "language": "python",
   "name": "python3"
  },
  "language_info": {
   "codemirror_mode": {
    "name": "ipython",
    "version": 3
   },
   "file_extension": ".py",
   "mimetype": "text/x-python",
   "name": "python",
   "nbconvert_exporter": "python",
   "pygments_lexer": "ipython3",
   "version": "3.10.5"
  },
  "orig_nbformat": 4,
  "vscode": {
   "interpreter": {
    "hash": "e7370f93d1d0cde622a1f8e1c04877d8463912d04d973331ad4851f04de6915a"
   }
  }
 },
 "nbformat": 4,
 "nbformat_minor": 2
}
