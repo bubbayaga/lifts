{
 "cells": [
  {
   "cell_type": "code",
   "execution_count": 1,
   "metadata": {},
   "outputs": [],
   "source": [
    "import gspread\n",
    "gc = gspread.service_account(filename='creds/lifts-service.json')\n",
    "sheet = gc.open_by_key('1XmPko5pbcw0HdvPZeL7Fw8tfX4zhvxREUDGISC54jwk')\n",
    "ws = sheet.get_worksheet(0)  \n"
   ]
  },
  {
   "cell_type": "code",
   "execution_count": 20,
   "metadata": {},
   "outputs": [],
   "source": [
    "import pandas as pd\n",
    "import altair as alt\n",
    "\n",
    "alt.renderers.enable('mimetype')\n",
    "\n",
    "def load_data_LR(L_index: int, R_index: int) -> tuple[str, pd.DataFrame]:\n",
    "    date = ws.col_values(1)\n",
    "    L = ws.col_values(L_index)\n",
    "    R = ws.col_values(R_index)\n",
    "\n",
    "    title = str(L[0]).split(' ')[0]\n",
    "\n",
    "    df = pd.DataFrame(\n",
    "        {\n",
    "            \"date\": date[1:],\n",
    "            \"L\": L[1:],\n",
    "            \"R\": R[1:]\n",
    "        }\n",
    "    )\n",
    "\n",
    "    df[\"L\"] = pd.to_numeric(df[\"L\"])\n",
    "    df[\"R\"] = pd.to_numeric(df[\"R\"])\n",
    "\n",
    "    df = df[df['L'] != 0]\n",
    "\n",
    "    df['date'] = pd.to_datetime(df['date'], dayfirst=True)\n",
    "\n",
    "    return title, df\n",
    "\n",
    "def load_data(index: int) -> tuple[str, pd.DataFrame]:\n",
    "    date = ws.col_values(1)\n",
    "    val = ws.col_values(index)\n",
    "    \n",
    "    title = str(val[0])\n",
    "\n",
    "    df = pd.DataFrame(\n",
    "        {\n",
    "            \"date\": date[1:],\n",
    "            title: val[1:]\n",
    "        }\n",
    "    )\n",
    "\n",
    "    df['date'] = pd.to_datetime(df['date'], dayfirst=True)\n",
    "    df[title] = pd.to_numeric(df[title])\n",
    "    df = df[df[title] != 0]\n",
    "\n",
    "    return title, df\n",
    "\n",
    "def get_LR_X() -> alt.X:\n",
    "    return alt.X('date:T', timeUnit='yearmonthdate', sort='-x', title='date', axis= alt.Axis(grid=True))\n",
    "\n",
    "def get_LR_Y(title: str) -> alt.Y:\n",
    "    return alt.Y('value:Q', scale=alt.Scale(zero=False), title = title + ' Size (cm)', impute=alt.ImputeParams(frame=[-1, 1], method='mean'))\n",
    "\n",
    "def LR_transform(df: pd.DataFrame) -> alt.Chart:\n",
    "    return alt.Chart(df).transform_fold(['L', 'R'])\n",
    "\n",
    "def make_chart_LR(L_index: int, R_index: int) -> alt.Chart:\n",
    "    title, df = load_data_LR(L_index, R_index)\n",
    "\n",
    "    transformed = LR_transform(df)\n",
    "    chart = transformed.mark_line(point = True).encode(\n",
    "        get_LR_X(),\n",
    "        get_LR_Y(title),\n",
    "        color='key:N'\n",
    "    ).properties(\n",
    "        width=1000,\n",
    "    )\n",
    "\n",
    "    return chart\n",
    "\n",
    "\n",
    "def make_chart_LR_hover(L_index: int, R_index: int) -> alt.Chart:\n",
    "    title, df = load_data_LR(L_index, R_index)\n",
    "\n",
    "    highlight = alt.selection(type='single', on='mouseover',\n",
    "                          fields=['key'], nearest=True, empty='none')\n",
    "\n",
    "    transformed  = LR_transform(df)\n",
    "\n",
    "    chart = transformed.mark_line().encode(\n",
    "        get_LR_X(),\n",
    "        get_LR_Y(title),\n",
    "        color='key:N',\n",
    "        size=alt.condition(~highlight, alt.value(1), alt.value(3))\n",
    "    ).properties(\n",
    "        width=1000,\n",
    "    )\n",
    "\n",
    "    points = transformed.mark_point(opacity=1, filled=True).encode(\n",
    "        x='date:T',\n",
    "        y='value:Q',\n",
    "        color='key:N'\n",
    "    ).add_selection(\n",
    "        highlight\n",
    "    )\n",
    "\n",
    "    return chart + points\n",
    "\n",
    "def make_chart_LR_with_hover_tool_tip(L_index: int, R_index: int) -> alt.Chart:\n",
    "    title, df = load_data_LR(L_index, R_index)\n",
    "    title_q = quant_title(title)\n",
    "\n",
    "    nearest = alt.selection(type='single', nearest=True, on='mouseover', fields=['date'], empty='none')\n",
    "\n",
    "    transformed  = LR_transform(df)\n",
    "\n",
    "    line = transformed.mark_line().encode(\n",
    "        get_LR_X(),\n",
    "        get_LR_Y(title),\n",
    "        color='key:N',\n",
    "        tooltip = ['date', 'value:Q']\n",
    "    ).properties(\n",
    "        width=1000,\n",
    "    )\n",
    "\n",
    "    selectors = transformed.mark_point().encode(\n",
    "        x=get_LR_X(),\n",
    "        opacity=alt.value(0),\n",
    "    ).add_selection(nearest)\n",
    "\n",
    "    points = line.mark_point().encode(\n",
    "        opacity=alt.condition(nearest, alt.value(1), alt.value(0))\n",
    "    )\n",
    "\n",
    "    text = line.mark_text(align='left', dx=5, dy=-5).encode(\n",
    "        text=alt.condition(nearest, 'value:Q', alt.value(' '))\n",
    "    )\n",
    "\n",
    "    rules = transformed.mark_rule(color='gray').encode(\n",
    "        x=get_LR_X(),\n",
    "    ).transform_filter(nearest)\n",
    "\n",
    "    chart = alt.layer(\n",
    "        line, selectors, points, rules, text\n",
    "    ).properties(\n",
    "        width=600, height=300\n",
    "    )\n",
    "\n",
    "    return chart\n",
    "\n",
    "def quant_title(title: str) -> str:\n",
    "    return title + ':Q'\n",
    "\n",
    "def get_X() -> alt.X:\n",
    "    return alt.X('date:T', timeUnit='yearmonthdate', sort='-x', title='date', axis= alt.Axis(grid=False))\n",
    "\n",
    "def get_Y(title: str, withImpute: bool) -> alt.Y:\n",
    "    # weight chart throws JS error with impute, not sure why\n",
    "    if withImpute:\n",
    "        return alt.Y(quant_title(title), scale=alt.Scale(zero=False), title = title, impute=alt.ImputeParams(frame=[-1, 1], method='mean'))\n",
    "    else:\n",
    "        return alt.Y(quant_title(title), scale=alt.Scale(zero=False), title = title)\n",
    "\n",
    "def chart_style() -> dict:\n",
    "    return {\n",
    "        'background':'#161619', 'axis': (alt.Axis(labelColor='#666666', titleColor='#ffffff', gridColor='#131316'))\n",
    "    }\n",
    "\n",
    "def make_chart(index: int, withImpute: bool = True) -> alt.Chart:\n",
    "    title, df = load_data(index)\n",
    "    chart = alt.Chart(df).mark_line(point = True).encode(\n",
    "        get_X(),\n",
    "        get_Y(title, withImpute) ,\n",
    "        color=alt.value('#e9702b')\n",
    "    ).properties(\n",
    "        width=1500,\n",
    "        height=250\n",
    "    ).configure(**chart_style())\n",
    "\n",
    "    return chart\n",
    "\n",
    "def make_chart_with_tool_tip(index: int, withImpute: bool = True) -> alt.Chart:\n",
    "    title, df = load_data(index)\n",
    "\n",
    "    chart = alt.Chart(df).mark_line(point = True).encode(\n",
    "        get_X(),\n",
    "        get_Y(title, withImpute) ,\n",
    "        tooltip = ['date', title]\n",
    "    ).properties(\n",
    "        width=1500,\n",
    "        height=250\n",
    "    )\n",
    "\n",
    "    return chart\n",
    "\n",
    "def make_chart_with_hover_tool_tip(index: int, withImpute: bool = True) -> alt.Chart:\n",
    "    title, df = load_data(index)\n",
    "    title_q = quant_title(title)\n",
    "\n",
    "    nearest = alt.selection(type='single', nearest=True, on='mouseover', fields=['date'], empty='none')\n",
    "\n",
    "    line = alt.Chart(df).mark_line().encode(\n",
    "        get_X(),\n",
    "        get_Y(title, withImpute) ,\n",
    "        tooltip = ['date', title]\n",
    "    )\n",
    "\n",
    "    selectors = alt.Chart(df).mark_point().encode(\n",
    "        x=get_X(),\n",
    "        opacity=alt.value(0),\n",
    "    ).add_selection(\n",
    "        nearest\n",
    "    )\n",
    "\n",
    "    points = line.mark_point().encode(\n",
    "        opacity=alt.condition(nearest, alt.value(1), alt.value(0))\n",
    "    )\n",
    "\n",
    "    text = line.mark_text(align='left', dx=5, dy=-5).encode(\n",
    "        text=alt.condition(nearest, title_q, alt.value(' '))\n",
    "    )\n",
    "\n",
    "    rules = alt.Chart(df).mark_rule(color='gray').encode(\n",
    "        x=get_X(),\n",
    "    ).transform_filter(nearest)\n",
    "\n",
    "    chart = alt.layer(\n",
    "        line, selectors, points, rules, text\n",
    "    ).properties(\n",
    "        width=600, height=300\n",
    "    )\n",
    "\n",
    "    return chart\n",
    "\n"
   ]
  },
  {
   "cell_type": "code",
   "execution_count": 3,
   "metadata": {},
   "outputs": [
    {
     "data": {
      "application/vnd.vegalite.v4+json": {
       "$schema": "https://vega.github.io/schema/vega-lite/v4.17.0.json",
       "config": {
        "view": {
         "continuousHeight": 300,
         "continuousWidth": 400
        }
       },
       "data": {
        "name": "data-9f355c7b6fa11bbbbd1a3376588ef2bb"
       },
       "datasets": {
        "data-9f355c7b6fa11bbbbd1a3376588ef2bb": [
         {
          "Weight (kg)": 80.65,
          "date": "2021-04-11T00:00:00"
         },
         {
          "Weight (kg)": 80.92,
          "date": "2021-04-18T00:00:00"
         },
         {
          "Weight (kg)": 80.29,
          "date": "2021-04-25T00:00:00"
         },
         {
          "Weight (kg)": 80.65,
          "date": "2021-05-02T00:00:00"
         },
         {
          "Weight (kg)": 80.56,
          "date": "2021-05-09T00:00:00"
         },
         {
          "Weight (kg)": 81.1,
          "date": "2021-05-16T00:00:00"
         },
         {
          "Weight (kg)": 81.56,
          "date": "2021-05-23T00:00:00"
         },
         {
          "Weight (kg)": 81.28,
          "date": "2021-05-30T00:00:00"
         },
         {
          "Weight (kg)": 81.37,
          "date": "2021-06-06T00:00:00"
         },
         {
          "Weight (kg)": 81.47,
          "date": "2021-06-13T00:00:00"
         },
         {
          "Weight (kg)": 82.83,
          "date": "2021-06-20T00:00:00"
         },
         {
          "Weight (kg)": 83.37,
          "date": "2021-06-27T00:00:00"
         },
         {
          "Weight (kg)": 81.56,
          "date": "2021-07-04T00:00:00"
         },
         {
          "Weight (kg)": 83.64,
          "date": "2021-07-11T00:00:00"
         },
         {
          "Weight (kg)": 83.55,
          "date": "2021-07-18T00:00:00"
         },
         {
          "Weight (kg)": 81.83,
          "date": "2021-07-25T00:00:00"
         },
         {
          "Weight (kg)": 79.2,
          "date": "2021-08-01T00:00:00"
         },
         {
          "Weight (kg)": 81.1,
          "date": "2021-08-08T00:00:00"
         },
         {
          "Weight (kg)": 81.47,
          "date": "2021-08-15T00:00:00"
         },
         {
          "Weight (kg)": 81.65,
          "date": "2021-08-22T00:00:00"
         },
         {
          "Weight (kg)": 82.55,
          "date": "2021-09-05T00:00:00"
         },
         {
          "Weight (kg)": 83.1,
          "date": "2021-09-12T00:00:00"
         },
         {
          "Weight (kg)": 82.55,
          "date": "2021-09-19T00:00:00"
         },
         {
          "Weight (kg)": 83.01,
          "date": "2021-09-26T00:00:00"
         },
         {
          "Weight (kg)": 82.37,
          "date": "2021-10-03T00:00:00"
         },
         {
          "Weight (kg)": 81.92,
          "date": "2021-10-10T00:00:00"
         },
         {
          "Weight (kg)": 78.56,
          "date": "2021-10-17T00:00:00"
         },
         {
          "Weight (kg)": 76.02,
          "date": "2021-10-31T00:00:00"
         },
         {
          "Weight (kg)": 76.48,
          "date": "2021-11-07T00:00:00"
         },
         {
          "Weight (kg)": 75.3,
          "date": "2021-11-14T00:00:00"
         },
         {
          "Weight (kg)": 74.66,
          "date": "2021-11-21T00:00:00"
         },
         {
          "Weight (kg)": 74.3,
          "date": "2021-11-28T00:00:00"
         },
         {
          "Weight (kg)": 73.48,
          "date": "2021-12-12T00:00:00"
         },
         {
          "Weight (kg)": 74.12,
          "date": "2021-12-19T00:00:00"
         },
         {
          "Weight (kg)": 74.39,
          "date": "2022-01-09T00:00:00"
         },
         {
          "Weight (kg)": 74.39,
          "date": "2022-01-30T00:00:00"
         },
         {
          "Weight (kg)": 76.11,
          "date": "2022-02-06T00:00:00"
         },
         {
          "Weight (kg)": 70.94,
          "date": "2022-02-13T00:00:00"
         },
         {
          "Weight (kg)": 75.66,
          "date": "2022-02-20T00:00:00"
         },
         {
          "Weight (kg)": 78.2,
          "date": "2022-02-27T00:00:00"
         },
         {
          "Weight (kg)": 80.29,
          "date": "2022-03-06T00:00:00"
         },
         {
          "Weight (kg)": 79.83,
          "date": "2022-03-13T00:00:00"
         },
         {
          "Weight (kg)": 81.74,
          "date": "2022-03-20T00:00:00"
         },
         {
          "Weight (kg)": 81.1,
          "date": "2022-03-27T00:00:00"
         },
         {
          "Weight (kg)": 78.56,
          "date": "2022-04-03T00:00:00"
         },
         {
          "Weight (kg)": 77.66,
          "date": "2022-04-10T00:00:00"
         },
         {
          "Weight (kg)": 77.38,
          "date": "2022-04-17T00:00:00"
         },
         {
          "Weight (kg)": 78.74,
          "date": "2022-04-24T00:00:00"
         },
         {
          "Weight (kg)": 78.74,
          "date": "2022-05-01T00:00:00"
         },
         {
          "Weight (kg)": 81.92,
          "date": "2022-05-08T00:00:00"
         },
         {
          "Weight (kg)": 80.01,
          "date": "2022-05-15T00:00:00"
         },
         {
          "Weight (kg)": 76.84,
          "date": "2022-05-22T00:00:00"
         },
         {
          "Weight (kg)": 74.93,
          "date": "2022-05-29T00:00:00"
         },
         {
          "Weight (kg)": 74.12,
          "date": "2022-06-05T00:00:00"
         },
         {
          "Weight (kg)": 74.12,
          "date": "2022-06-12T00:00:00"
         },
         {
          "Weight (kg)": 74.39,
          "date": "2022-06-19T00:00:00"
         },
         {
          "Weight (kg)": 74.21,
          "date": "2022-06-26T00:00:00"
         },
         {
          "Weight (kg)": 72.67,
          "date": "2022-07-03T00:00:00"
         },
         {
          "Weight (kg)": 73.48,
          "date": "2022-07-10T00:00:00"
         },
         {
          "Weight (kg)": 76.52,
          "date": "2022-07-17T00:00:00"
         },
         {
          "Weight (kg)": 75.48,
          "date": "2022-07-24T00:00:00"
         },
         {
          "Weight (kg)": 73.94,
          "date": "2022-07-31T00:00:00"
         },
         {
          "Weight (kg)": 74.3,
          "date": "2022-08-07T00:00:00"
         },
         {
          "Weight (kg)": 74.39,
          "date": "2022-08-14T00:00:00"
         },
         {
          "Weight (kg)": 75.84,
          "date": "2022-08-21T00:00:00"
         },
         {
          "Weight (kg)": 73.84,
          "date": "2022-08-28T00:00:00"
         }
        ]
       },
       "encoding": {
        "tooltip": [
         {
          "field": "date",
          "type": "temporal"
         },
         {
          "field": "Weight (kg)",
          "type": "quantitative"
         }
        ],
        "x": {
         "axis": {
          "grid": false
         },
         "field": "date",
         "sort": "-x",
         "timeUnit": "yearmonthdate",
         "title": "date",
         "type": "temporal"
        },
        "y": {
         "field": "Weight (kg)",
         "scale": {
          "zero": false
         },
         "title": "Weight (kg)",
         "type": "quantitative"
        }
       },
       "height": 250,
       "mark": {
        "point": true,
        "type": "line"
       },
       "width": 1500
      },
      "text/plain": [
       "<VegaLite 4 object>\n",
       "\n",
       "If you see this message, it means the renderer has not been properly enabled\n",
       "for the frontend that you are using. For more information, see\n",
       "https://altair-viz.github.io/user_guide/troubleshooting.html\n"
      ]
     },
     "execution_count": 3,
     "metadata": {},
     "output_type": "execute_result"
    }
   ],
   "source": [
    "# weight graph (lower is better)\n",
    "\n",
    "chart = make_chart_with_tool_tip(4, False)\n",
    "\n",
    "chart"
   ]
  },
  {
   "cell_type": "code",
   "execution_count": 4,
   "metadata": {},
   "outputs": [
    {
     "data": {
      "application/vnd.vegalite.v4+json": {
       "$schema": "https://vega.github.io/schema/vega-lite/v4.17.0.json",
       "config": {
        "axis": {
         "gridColor": "#131316",
         "labelColor": "#666666",
         "titleColor": "#ffffff"
        },
        "background": "#161619",
        "view": {
         "continuousHeight": 300,
         "continuousWidth": 400
        }
       },
       "data": {
        "name": "data-50839cea718c11a8570f898a363e1937"
       },
       "datasets": {
        "data-50839cea718c11a8570f898a363e1937": [
         {
          "Hips": 103,
          "date": "2021-04-11T00:00:00"
         },
         {
          "Hips": 102,
          "date": "2021-04-18T00:00:00"
         },
         {
          "Hips": 102,
          "date": "2021-04-25T00:00:00"
         },
         {
          "Hips": 102,
          "date": "2021-05-02T00:00:00"
         },
         {
          "Hips": 102,
          "date": "2021-05-09T00:00:00"
         },
         {
          "Hips": 102,
          "date": "2021-05-16T00:00:00"
         },
         {
          "Hips": 102,
          "date": "2021-05-23T00:00:00"
         },
         {
          "Hips": 101,
          "date": "2021-05-30T00:00:00"
         },
         {
          "Hips": 101,
          "date": "2021-06-06T00:00:00"
         },
         {
          "Hips": 102,
          "date": "2021-06-13T00:00:00"
         },
         {
          "Hips": 102,
          "date": "2021-06-20T00:00:00"
         },
         {
          "Hips": 103,
          "date": "2021-06-27T00:00:00"
         },
         {
          "Hips": null,
          "date": "2021-07-04T00:00:00"
         },
         {
          "Hips": 102,
          "date": "2021-07-11T00:00:00"
         },
         {
          "Hips": 102,
          "date": "2021-07-18T00:00:00"
         },
         {
          "Hips": 101,
          "date": "2021-07-25T00:00:00"
         },
         {
          "Hips": 100,
          "date": "2021-08-01T00:00:00"
         },
         {
          "Hips": 101.5,
          "date": "2021-08-08T00:00:00"
         },
         {
          "Hips": 101,
          "date": "2021-08-15T00:00:00"
         },
         {
          "Hips": 102,
          "date": "2021-08-22T00:00:00"
         },
         {
          "Hips": 101.5,
          "date": "2021-09-05T00:00:00"
         },
         {
          "Hips": 102.5,
          "date": "2021-09-12T00:00:00"
         },
         {
          "Hips": 102.5,
          "date": "2021-09-19T00:00:00"
         },
         {
          "Hips": 102,
          "date": "2021-09-26T00:00:00"
         },
         {
          "Hips": 101,
          "date": "2021-10-03T00:00:00"
         },
         {
          "Hips": 101,
          "date": "2021-10-10T00:00:00"
         },
         {
          "Hips": 102,
          "date": "2021-10-17T00:00:00"
         },
         {
          "Hips": 101,
          "date": "2021-10-24T00:00:00"
         },
         {
          "Hips": 99,
          "date": "2021-10-31T00:00:00"
         },
         {
          "Hips": 99.5,
          "date": "2021-11-07T00:00:00"
         },
         {
          "Hips": 100,
          "date": "2021-11-14T00:00:00"
         },
         {
          "Hips": 97,
          "date": "2021-11-21T00:00:00"
         },
         {
          "Hips": 96,
          "date": "2021-11-28T00:00:00"
         },
         {
          "Hips": 96,
          "date": "2021-12-12T00:00:00"
         },
         {
          "Hips": 97.5,
          "date": "2021-12-19T00:00:00"
         },
         {
          "Hips": 98,
          "date": "2022-01-09T00:00:00"
         },
         {
          "Hips": 97,
          "date": "2022-01-30T00:00:00"
         },
         {
          "Hips": 98,
          "date": "2022-02-06T00:00:00"
         },
         {
          "Hips": 97.5,
          "date": "2022-02-13T00:00:00"
         },
         {
          "Hips": 99,
          "date": "2022-02-20T00:00:00"
         },
         {
          "Hips": 100,
          "date": "2022-02-27T00:00:00"
         },
         {
          "Hips": 100.5,
          "date": "2022-03-06T00:00:00"
         },
         {
          "Hips": 100,
          "date": "2022-03-13T00:00:00"
         },
         {
          "Hips": 101,
          "date": "2022-03-20T00:00:00"
         },
         {
          "Hips": 100,
          "date": "2022-03-27T00:00:00"
         },
         {
          "Hips": 100,
          "date": "2022-04-03T00:00:00"
         },
         {
          "Hips": 99,
          "date": "2022-04-10T00:00:00"
         },
         {
          "Hips": null,
          "date": "2022-04-17T00:00:00"
         },
         {
          "Hips": 100,
          "date": "2022-04-24T00:00:00"
         },
         {
          "Hips": 101,
          "date": "2022-05-01T00:00:00"
         },
         {
          "Hips": 101,
          "date": "2022-05-08T00:00:00"
         },
         {
          "Hips": 100,
          "date": "2022-05-15T00:00:00"
         },
         {
          "Hips": 99,
          "date": "2022-05-22T00:00:00"
         },
         {
          "Hips": 98,
          "date": "2022-05-29T00:00:00"
         },
         {
          "Hips": 97,
          "date": "2022-06-05T00:00:00"
         },
         {
          "Hips": 97.5,
          "date": "2022-06-12T00:00:00"
         },
         {
          "Hips": 98,
          "date": "2022-06-19T00:00:00"
         },
         {
          "Hips": 97,
          "date": "2022-06-26T00:00:00"
         },
         {
          "Hips": 98,
          "date": "2022-07-03T00:00:00"
         },
         {
          "Hips": 96.5,
          "date": "2022-07-10T00:00:00"
         },
         {
          "Hips": 99,
          "date": "2022-07-17T00:00:00"
         },
         {
          "Hips": 98,
          "date": "2022-07-24T00:00:00"
         },
         {
          "Hips": 96,
          "date": "2022-07-31T00:00:00"
         },
         {
          "Hips": 97,
          "date": "2022-08-07T00:00:00"
         },
         {
          "Hips": 98,
          "date": "2022-08-14T00:00:00"
         },
         {
          "Hips": 96,
          "date": "2022-08-21T00:00:00"
         },
         {
          "Hips": 97,
          "date": "2022-08-28T00:00:00"
         }
        ]
       },
       "encoding": {
        "color": {
         "value": "#e9702b"
        },
        "x": {
         "axis": {
          "grid": false
         },
         "field": "date",
         "sort": "-x",
         "timeUnit": "yearmonthdate",
         "title": "date",
         "type": "temporal"
        },
        "y": {
         "field": "Hips",
         "impute": {
          "frame": [
           -1,
           1
          ],
          "method": "mean"
         },
         "scale": {
          "zero": false
         },
         "title": "Hips",
         "type": "quantitative"
        }
       },
       "height": 250,
       "mark": {
        "point": true,
        "type": "line"
       },
       "width": 1500
      },
      "text/plain": [
       "<VegaLite 4 object>\n",
       "\n",
       "If you see this message, it means the renderer has not been properly enabled\n",
       "for the frontend that you are using. For more information, see\n",
       "https://altair-viz.github.io/user_guide/troubleshooting.html\n"
      ]
     },
     "execution_count": 4,
     "metadata": {},
     "output_type": "execute_result"
    }
   ],
   "source": [
    "# Hips\n",
    "chart = make_chart(9)\n",
    "\n",
    "chart"
   ]
  },
  {
   "cell_type": "code",
   "execution_count": 5,
   "metadata": {},
   "outputs": [
    {
     "data": {
      "application/vnd.vegalite.v4+json": {
       "$schema": "https://vega.github.io/schema/vega-lite/v4.17.0.json",
       "config": {
        "view": {
         "continuousHeight": 300,
         "continuousWidth": 400
        }
       },
       "data": {
        "name": "data-288610555ccefba1966a945b995354a2"
       },
       "datasets": {
        "data-288610555ccefba1966a945b995354a2": [
         {
          "Waist": 92,
          "date": "2021-04-11T00:00:00"
         },
         {
          "Waist": 90,
          "date": "2021-04-18T00:00:00"
         },
         {
          "Waist": 89,
          "date": "2021-04-25T00:00:00"
         },
         {
          "Waist": 88,
          "date": "2021-05-02T00:00:00"
         },
         {
          "Waist": 90,
          "date": "2021-05-09T00:00:00"
         },
         {
          "Waist": 88.5,
          "date": "2021-05-16T00:00:00"
         },
         {
          "Waist": 89,
          "date": "2021-05-23T00:00:00"
         },
         {
          "Waist": 88,
          "date": "2021-05-30T00:00:00"
         },
         {
          "Waist": 89,
          "date": "2021-06-06T00:00:00"
         },
         {
          "Waist": 88.5,
          "date": "2021-06-13T00:00:00"
         },
         {
          "Waist": 88.5,
          "date": "2021-06-20T00:00:00"
         },
         {
          "Waist": 88.5,
          "date": "2021-06-27T00:00:00"
         },
         {
          "Waist": null,
          "date": "2021-07-04T00:00:00"
         },
         {
          "Waist": 90,
          "date": "2021-07-11T00:00:00"
         },
         {
          "Waist": 89,
          "date": "2021-07-18T00:00:00"
         },
         {
          "Waist": 88,
          "date": "2021-07-25T00:00:00"
         },
         {
          "Waist": 87,
          "date": "2021-08-01T00:00:00"
         },
         {
          "Waist": 87,
          "date": "2021-08-08T00:00:00"
         },
         {
          "Waist": 88,
          "date": "2021-08-15T00:00:00"
         },
         {
          "Waist": 90,
          "date": "2021-08-22T00:00:00"
         },
         {
          "Waist": 89,
          "date": "2021-09-05T00:00:00"
         },
         {
          "Waist": 88,
          "date": "2021-09-12T00:00:00"
         },
         {
          "Waist": 88.5,
          "date": "2021-09-19T00:00:00"
         },
         {
          "Waist": 89,
          "date": "2021-09-26T00:00:00"
         },
         {
          "Waist": 88,
          "date": "2021-10-03T00:00:00"
         },
         {
          "Waist": 88,
          "date": "2021-10-10T00:00:00"
         },
         {
          "Waist": 85,
          "date": "2021-10-17T00:00:00"
         },
         {
          "Waist": 85,
          "date": "2021-10-24T00:00:00"
         },
         {
          "Waist": 84.5,
          "date": "2021-10-31T00:00:00"
         },
         {
          "Waist": 83.5,
          "date": "2021-11-07T00:00:00"
         },
         {
          "Waist": 84,
          "date": "2021-11-14T00:00:00"
         },
         {
          "Waist": 84,
          "date": "2021-11-21T00:00:00"
         },
         {
          "Waist": 81,
          "date": "2021-11-28T00:00:00"
         },
         {
          "Waist": 81,
          "date": "2021-12-12T00:00:00"
         },
         {
          "Waist": 81,
          "date": "2021-12-19T00:00:00"
         },
         {
          "Waist": 83,
          "date": "2022-01-09T00:00:00"
         },
         {
          "Waist": 83,
          "date": "2022-01-30T00:00:00"
         },
         {
          "Waist": 84,
          "date": "2022-02-06T00:00:00"
         },
         {
          "Waist": 83.5,
          "date": "2022-02-13T00:00:00"
         },
         {
          "Waist": 84,
          "date": "2022-02-20T00:00:00"
         },
         {
          "Waist": 88,
          "date": "2022-02-27T00:00:00"
         },
         {
          "Waist": 87.5,
          "date": "2022-03-06T00:00:00"
         },
         {
          "Waist": 87,
          "date": "2022-03-13T00:00:00"
         },
         {
          "Waist": 85.5,
          "date": "2022-03-20T00:00:00"
         },
         {
          "Waist": 87,
          "date": "2022-03-27T00:00:00"
         },
         {
          "Waist": 85,
          "date": "2022-04-03T00:00:00"
         },
         {
          "Waist": 85,
          "date": "2022-04-10T00:00:00"
         },
         {
          "Waist": null,
          "date": "2022-04-17T00:00:00"
         },
         {
          "Waist": 86,
          "date": "2022-04-24T00:00:00"
         },
         {
          "Waist": 85,
          "date": "2022-05-01T00:00:00"
         },
         {
          "Waist": 88.5,
          "date": "2022-05-08T00:00:00"
         },
         {
          "Waist": 85,
          "date": "2022-05-15T00:00:00"
         },
         {
          "Waist": 82.5,
          "date": "2022-05-22T00:00:00"
         },
         {
          "Waist": 83.5,
          "date": "2022-05-29T00:00:00"
         },
         {
          "Waist": 80,
          "date": "2022-06-05T00:00:00"
         },
         {
          "Waist": 81,
          "date": "2022-06-12T00:00:00"
         },
         {
          "Waist": 83,
          "date": "2022-06-19T00:00:00"
         },
         {
          "Waist": 88,
          "date": "2022-06-26T00:00:00"
         },
         {
          "Waist": 79,
          "date": "2022-07-03T00:00:00"
         },
         {
          "Waist": 81.5,
          "date": "2022-07-10T00:00:00"
         },
         {
          "Waist": 80,
          "date": "2022-07-17T00:00:00"
         },
         {
          "Waist": 82,
          "date": "2022-07-24T00:00:00"
         },
         {
          "Waist": 80,
          "date": "2022-07-31T00:00:00"
         },
         {
          "Waist": 80,
          "date": "2022-08-07T00:00:00"
         },
         {
          "Waist": 81,
          "date": "2022-08-14T00:00:00"
         },
         {
          "Waist": 79.5,
          "date": "2022-08-21T00:00:00"
         },
         {
          "Waist": 78,
          "date": "2022-08-28T00:00:00"
         }
        ]
       },
       "height": 300,
       "layer": [
        {
         "encoding": {
          "tooltip": [
           {
            "field": "date",
            "type": "temporal"
           },
           {
            "field": "Waist",
            "type": "quantitative"
           }
          ],
          "x": {
           "axis": {
            "grid": false
           },
           "field": "date",
           "sort": "-x",
           "timeUnit": "yearmonthdate",
           "title": "date",
           "type": "temporal"
          },
          "y": {
           "field": "Waist",
           "impute": {
            "frame": [
             -1,
             1
            ],
            "method": "mean"
           },
           "scale": {
            "zero": false
           },
           "title": "Waist",
           "type": "quantitative"
          }
         },
         "mark": "line"
        },
        {
         "encoding": {
          "opacity": {
           "value": 0
          },
          "x": {
           "axis": {
            "grid": false
           },
           "field": "date",
           "sort": "-x",
           "timeUnit": "yearmonthdate",
           "title": "date",
           "type": "temporal"
          }
         },
         "mark": "point",
         "selection": {
          "selector001": {
           "empty": "none",
           "fields": [
            "date"
           ],
           "nearest": true,
           "on": "mouseover",
           "type": "single"
          }
         }
        },
        {
         "encoding": {
          "opacity": {
           "condition": {
            "selection": "selector001",
            "value": 1
           },
           "value": 0
          },
          "tooltip": [
           {
            "field": "date",
            "type": "temporal"
           },
           {
            "field": "Waist",
            "type": "quantitative"
           }
          ],
          "x": {
           "axis": {
            "grid": false
           },
           "field": "date",
           "sort": "-x",
           "timeUnit": "yearmonthdate",
           "title": "date",
           "type": "temporal"
          },
          "y": {
           "field": "Waist",
           "impute": {
            "frame": [
             -1,
             1
            ],
            "method": "mean"
           },
           "scale": {
            "zero": false
           },
           "title": "Waist",
           "type": "quantitative"
          }
         },
         "mark": "point"
        },
        {
         "encoding": {
          "x": {
           "axis": {
            "grid": false
           },
           "field": "date",
           "sort": "-x",
           "timeUnit": "yearmonthdate",
           "title": "date",
           "type": "temporal"
          }
         },
         "mark": {
          "color": "gray",
          "type": "rule"
         },
         "transform": [
          {
           "filter": {
            "selection": "selector001"
           }
          }
         ]
        },
        {
         "encoding": {
          "text": {
           "condition": {
            "field": "Waist",
            "selection": "selector001",
            "type": "quantitative"
           },
           "value": " "
          },
          "tooltip": [
           {
            "field": "date",
            "type": "temporal"
           },
           {
            "field": "Waist",
            "type": "quantitative"
           }
          ],
          "x": {
           "axis": {
            "grid": false
           },
           "field": "date",
           "sort": "-x",
           "timeUnit": "yearmonthdate",
           "title": "date",
           "type": "temporal"
          },
          "y": {
           "field": "Waist",
           "impute": {
            "frame": [
             -1,
             1
            ],
            "method": "mean"
           },
           "scale": {
            "zero": false
           },
           "title": "Waist",
           "type": "quantitative"
          }
         },
         "mark": {
          "align": "left",
          "dx": 5,
          "dy": -5,
          "type": "text"
         }
        }
       ],
       "width": 600
      },
      "text/plain": [
       "<VegaLite 4 object>\n",
       "\n",
       "If you see this message, it means the renderer has not been properly enabled\n",
       "for the frontend that you are using. For more information, see\n",
       "https://altair-viz.github.io/user_guide/troubleshooting.html\n"
      ]
     },
     "execution_count": 5,
     "metadata": {},
     "output_type": "execute_result"
    }
   ],
   "source": [
    "# Waist (lower is better)\n",
    "chart = make_chart_with_hover_tool_tip(10)\n",
    "\n",
    "chart"
   ]
  },
  {
   "cell_type": "code",
   "execution_count": 6,
   "metadata": {},
   "outputs": [
    {
     "data": {
      "application/vnd.vegalite.v4+json": {
       "$schema": "https://vega.github.io/schema/vega-lite/v4.17.0.json",
       "config": {
        "view": {
         "continuousHeight": 300,
         "continuousWidth": 400
        }
       },
       "data": {
        "name": "data-f76dda09ea2999ff4ead6bd27f59d557"
       },
       "datasets": {
        "data-f76dda09ea2999ff4ead6bd27f59d557": [
         {
          "Chest": 93,
          "date": "2021-04-11T00:00:00"
         },
         {
          "Chest": 94,
          "date": "2021-04-18T00:00:00"
         },
         {
          "Chest": 95,
          "date": "2021-04-25T00:00:00"
         },
         {
          "Chest": 94.5,
          "date": "2021-05-02T00:00:00"
         },
         {
          "Chest": 94.5,
          "date": "2021-05-09T00:00:00"
         },
         {
          "Chest": 96,
          "date": "2021-05-16T00:00:00"
         },
         {
          "Chest": 97,
          "date": "2021-05-23T00:00:00"
         },
         {
          "Chest": 97.5,
          "date": "2021-05-30T00:00:00"
         },
         {
          "Chest": 97.5,
          "date": "2021-06-06T00:00:00"
         },
         {
          "Chest": 96,
          "date": "2021-06-13T00:00:00"
         },
         {
          "Chest": 97.5,
          "date": "2021-06-20T00:00:00"
         },
         {
          "Chest": 97.5,
          "date": "2021-06-27T00:00:00"
         },
         {
          "Chest": null,
          "date": "2021-07-04T00:00:00"
         },
         {
          "Chest": 98,
          "date": "2021-07-11T00:00:00"
         },
         {
          "Chest": 97,
          "date": "2021-07-18T00:00:00"
         },
         {
          "Chest": 98,
          "date": "2021-07-25T00:00:00"
         },
         {
          "Chest": 99,
          "date": "2021-08-01T00:00:00"
         },
         {
          "Chest": 98,
          "date": "2021-08-08T00:00:00"
         },
         {
          "Chest": 100,
          "date": "2021-08-15T00:00:00"
         },
         {
          "Chest": 100,
          "date": "2021-08-22T00:00:00"
         },
         {
          "Chest": 101.5,
          "date": "2021-09-05T00:00:00"
         },
         {
          "Chest": 102.5,
          "date": "2021-09-12T00:00:00"
         },
         {
          "Chest": 101,
          "date": "2021-09-19T00:00:00"
         },
         {
          "Chest": 102,
          "date": "2021-09-26T00:00:00"
         },
         {
          "Chest": 102.5,
          "date": "2021-10-03T00:00:00"
         },
         {
          "Chest": 101,
          "date": "2021-10-10T00:00:00"
         },
         {
          "Chest": 101.5,
          "date": "2021-10-17T00:00:00"
         },
         {
          "Chest": 101,
          "date": "2021-10-24T00:00:00"
         },
         {
          "Chest": 101.5,
          "date": "2021-10-31T00:00:00"
         },
         {
          "Chest": 99,
          "date": "2021-11-07T00:00:00"
         },
         {
          "Chest": 101,
          "date": "2021-11-14T00:00:00"
         },
         {
          "Chest": 100,
          "date": "2021-11-21T00:00:00"
         },
         {
          "Chest": 99,
          "date": "2021-11-28T00:00:00"
         },
         {
          "Chest": 98,
          "date": "2021-12-12T00:00:00"
         },
         {
          "Chest": 99,
          "date": "2021-12-19T00:00:00"
         },
         {
          "Chest": 99,
          "date": "2022-01-09T00:00:00"
         },
         {
          "Chest": 99,
          "date": "2022-01-30T00:00:00"
         },
         {
          "Chest": 102,
          "date": "2022-02-06T00:00:00"
         },
         {
          "Chest": 102,
          "date": "2022-02-13T00:00:00"
         },
         {
          "Chest": 101.5,
          "date": "2022-02-20T00:00:00"
         },
         {
          "Chest": 101,
          "date": "2022-02-27T00:00:00"
         },
         {
          "Chest": 102.5,
          "date": "2022-03-06T00:00:00"
         },
         {
          "Chest": 101.5,
          "date": "2022-03-13T00:00:00"
         },
         {
          "Chest": 102,
          "date": "2022-03-20T00:00:00"
         },
         {
          "Chest": 101,
          "date": "2022-03-27T00:00:00"
         },
         {
          "Chest": 102,
          "date": "2022-04-03T00:00:00"
         },
         {
          "Chest": 102,
          "date": "2022-04-10T00:00:00"
         },
         {
          "Chest": null,
          "date": "2022-04-17T00:00:00"
         },
         {
          "Chest": 102,
          "date": "2022-04-24T00:00:00"
         },
         {
          "Chest": 102.5,
          "date": "2022-05-01T00:00:00"
         },
         {
          "Chest": 102,
          "date": "2022-05-08T00:00:00"
         },
         {
          "Chest": 102,
          "date": "2022-05-15T00:00:00"
         },
         {
          "Chest": 101,
          "date": "2022-05-22T00:00:00"
         },
         {
          "Chest": 99,
          "date": "2022-05-29T00:00:00"
         },
         {
          "Chest": 100.5,
          "date": "2022-06-05T00:00:00"
         },
         {
          "Chest": 99,
          "date": "2022-06-12T00:00:00"
         },
         {
          "Chest": 98,
          "date": "2022-06-19T00:00:00"
         },
         {
          "Chest": 98,
          "date": "2022-06-26T00:00:00"
         },
         {
          "Chest": 98.5,
          "date": "2022-07-03T00:00:00"
         },
         {
          "Chest": 98,
          "date": "2022-07-10T00:00:00"
         },
         {
          "Chest": 98,
          "date": "2022-07-17T00:00:00"
         },
         {
          "Chest": 98,
          "date": "2022-07-24T00:00:00"
         },
         {
          "Chest": 98,
          "date": "2022-07-31T00:00:00"
         },
         {
          "Chest": 99,
          "date": "2022-08-07T00:00:00"
         },
         {
          "Chest": 97,
          "date": "2022-08-14T00:00:00"
         },
         {
          "Chest": 99,
          "date": "2022-08-21T00:00:00"
         },
         {
          "Chest": 99,
          "date": "2022-08-28T00:00:00"
         }
        ]
       },
       "encoding": {
        "tooltip": [
         {
          "field": "date",
          "type": "temporal"
         },
         {
          "field": "Chest",
          "type": "quantitative"
         }
        ],
        "x": {
         "axis": {
          "grid": false
         },
         "field": "date",
         "sort": "-x",
         "timeUnit": "yearmonthdate",
         "title": "date",
         "type": "temporal"
        },
        "y": {
         "field": "Chest",
         "impute": {
          "frame": [
           -1,
           1
          ],
          "method": "mean"
         },
         "scale": {
          "zero": false
         },
         "title": "Chest",
         "type": "quantitative"
        }
       },
       "height": 250,
       "mark": {
        "point": true,
        "type": "line"
       },
       "width": 1500
      },
      "text/plain": [
       "<VegaLite 4 object>\n",
       "\n",
       "If you see this message, it means the renderer has not been properly enabled\n",
       "for the frontend that you are using. For more information, see\n",
       "https://altair-viz.github.io/user_guide/troubleshooting.html\n"
      ]
     },
     "execution_count": 6,
     "metadata": {},
     "output_type": "execute_result"
    }
   ],
   "source": [
    "# Chest\n",
    "\n",
    "chart = make_chart_with_tool_tip(11)\n",
    "\n",
    "chart"
   ]
  },
  {
   "cell_type": "code",
   "execution_count": 7,
   "metadata": {},
   "outputs": [
    {
     "data": {
      "application/vnd.vegalite.v4+json": {
       "$schema": "https://vega.github.io/schema/vega-lite/v4.17.0.json",
       "config": {
        "view": {
         "continuousHeight": 300,
         "continuousWidth": 400
        }
       },
       "data": {
        "name": "data-e355ff42253e30203ca3644eef9a45ed"
       },
       "datasets": {
        "data-e355ff42253e30203ca3644eef9a45ed": [
         {
          "L": 39,
          "R": 39,
          "date": "2021-04-11T00:00:00"
         },
         {
          "L": 39,
          "R": 39,
          "date": "2021-04-18T00:00:00"
         },
         {
          "L": 39,
          "R": 40,
          "date": "2021-04-25T00:00:00"
         },
         {
          "L": 39,
          "R": 40,
          "date": "2021-05-02T00:00:00"
         },
         {
          "L": 39,
          "R": 40,
          "date": "2021-05-09T00:00:00"
         },
         {
          "L": 39,
          "R": 40,
          "date": "2021-05-16T00:00:00"
         },
         {
          "L": 39,
          "R": 39,
          "date": "2021-05-23T00:00:00"
         },
         {
          "L": 39,
          "R": 40,
          "date": "2021-05-30T00:00:00"
         },
         {
          "L": 39,
          "R": 40,
          "date": "2021-06-06T00:00:00"
         },
         {
          "L": 39,
          "R": 39.5,
          "date": "2021-06-13T00:00:00"
         },
         {
          "L": 39,
          "R": 39.5,
          "date": "2021-06-20T00:00:00"
         },
         {
          "L": 39,
          "R": 41,
          "date": "2021-06-27T00:00:00"
         },
         {
          "L": null,
          "R": null,
          "date": "2021-07-04T00:00:00"
         },
         {
          "L": 39,
          "R": 41,
          "date": "2021-07-11T00:00:00"
         },
         {
          "L": 39.5,
          "R": 40,
          "date": "2021-07-18T00:00:00"
         },
         {
          "L": 39.5,
          "R": 40,
          "date": "2021-07-25T00:00:00"
         },
         {
          "L": 39.5,
          "R": 40.5,
          "date": "2021-08-01T00:00:00"
         },
         {
          "L": 39,
          "R": 40,
          "date": "2021-08-08T00:00:00"
         },
         {
          "L": 39,
          "R": 40,
          "date": "2021-08-15T00:00:00"
         },
         {
          "L": 39,
          "R": 39.5,
          "date": "2021-08-22T00:00:00"
         },
         {
          "L": 39.5,
          "R": 40.5,
          "date": "2021-09-05T00:00:00"
         },
         {
          "L": 39.5,
          "R": 40,
          "date": "2021-09-12T00:00:00"
         },
         {
          "L": 40,
          "R": 41,
          "date": "2021-09-19T00:00:00"
         },
         {
          "L": 39,
          "R": 39,
          "date": "2021-09-26T00:00:00"
         },
         {
          "L": 40,
          "R": 40,
          "date": "2021-10-03T00:00:00"
         },
         {
          "L": 39,
          "R": 39.5,
          "date": "2021-10-10T00:00:00"
         },
         {
          "L": 39,
          "R": 39.5,
          "date": "2021-10-17T00:00:00"
         },
         {
          "L": 39,
          "R": 39.5,
          "date": "2021-10-24T00:00:00"
         },
         {
          "L": 39,
          "R": 39.5,
          "date": "2021-10-31T00:00:00"
         },
         {
          "L": 39,
          "R": 40,
          "date": "2021-11-07T00:00:00"
         },
         {
          "L": 39,
          "R": 40,
          "date": "2021-11-14T00:00:00"
         },
         {
          "L": 39,
          "R": 39,
          "date": "2021-11-21T00:00:00"
         },
         {
          "L": 38,
          "R": 38.5,
          "date": "2021-11-28T00:00:00"
         },
         {
          "L": 38,
          "R": 38.5,
          "date": "2021-12-12T00:00:00"
         },
         {
          "L": 37,
          "R": 37,
          "date": "2021-12-19T00:00:00"
         },
         {
          "L": 38,
          "R": 38,
          "date": "2022-01-09T00:00:00"
         },
         {
          "L": 38,
          "R": 38,
          "date": "2022-01-30T00:00:00"
         },
         {
          "L": 38,
          "R": 38,
          "date": "2022-02-06T00:00:00"
         },
         {
          "L": 38,
          "R": 38,
          "date": "2022-02-13T00:00:00"
         },
         {
          "L": 38,
          "R": 38,
          "date": "2022-02-20T00:00:00"
         },
         {
          "L": 38,
          "R": 38.5,
          "date": "2022-02-27T00:00:00"
         },
         {
          "L": 38.5,
          "R": 38.5,
          "date": "2022-03-06T00:00:00"
         },
         {
          "L": 39,
          "R": 39.5,
          "date": "2022-03-13T00:00:00"
         },
         {
          "L": 39,
          "R": 39.5,
          "date": "2022-03-20T00:00:00"
         },
         {
          "L": 37.5,
          "R": 38,
          "date": "2022-03-27T00:00:00"
         },
         {
          "L": 38,
          "R": 38.5,
          "date": "2022-04-03T00:00:00"
         },
         {
          "L": 38,
          "R": 38,
          "date": "2022-04-10T00:00:00"
         },
         {
          "L": null,
          "R": null,
          "date": "2022-04-17T00:00:00"
         },
         {
          "L": 39.5,
          "R": 39.5,
          "date": "2022-04-24T00:00:00"
         },
         {
          "L": 38.5,
          "R": 39,
          "date": "2022-05-01T00:00:00"
         },
         {
          "L": 39.5,
          "R": 39.5,
          "date": "2022-05-08T00:00:00"
         },
         {
          "L": 39,
          "R": 39.5,
          "date": "2022-05-15T00:00:00"
         },
         {
          "L": 38,
          "R": 38.5,
          "date": "2022-05-22T00:00:00"
         },
         {
          "L": 38,
          "R": 38,
          "date": "2022-05-29T00:00:00"
         },
         {
          "L": 37,
          "R": 37,
          "date": "2022-06-05T00:00:00"
         },
         {
          "L": 38,
          "R": 38.5,
          "date": "2022-06-12T00:00:00"
         },
         {
          "L": 38.5,
          "R": 39,
          "date": "2022-06-19T00:00:00"
         },
         {
          "L": 38,
          "R": 38.5,
          "date": "2022-06-26T00:00:00"
         },
         {
          "L": 37.5,
          "R": 38.5,
          "date": "2022-07-03T00:00:00"
         },
         {
          "L": 38,
          "R": 38,
          "date": "2022-07-10T00:00:00"
         },
         {
          "L": 38,
          "R": 38,
          "date": "2022-07-17T00:00:00"
         },
         {
          "L": 38,
          "R": 38,
          "date": "2022-07-24T00:00:00"
         },
         {
          "L": 38,
          "R": 38,
          "date": "2022-07-31T00:00:00"
         },
         {
          "L": 38,
          "R": 38,
          "date": "2022-08-07T00:00:00"
         },
         {
          "L": 38,
          "R": 38,
          "date": "2022-08-14T00:00:00"
         },
         {
          "L": 38,
          "R": 38,
          "date": "2022-08-21T00:00:00"
         },
         {
          "L": 37.5,
          "R": 37.5,
          "date": "2022-08-28T00:00:00"
         }
        ]
       },
       "layer": [
        {
         "encoding": {
          "color": {
           "field": "key",
           "type": "nominal"
          },
          "size": {
           "condition": {
            "selection": {
             "not": "selector002"
            },
            "value": 1
           },
           "value": 3
          },
          "x": {
           "axis": {
            "grid": true
           },
           "field": "date",
           "sort": "-x",
           "timeUnit": "yearmonthdate",
           "title": "date",
           "type": "temporal"
          },
          "y": {
           "field": "value",
           "impute": {
            "frame": [
             -1,
             1
            ],
            "method": "mean"
           },
           "scale": {
            "zero": false
           },
           "title": "Calves Size (cm)",
           "type": "quantitative"
          }
         },
         "mark": "line",
         "transform": [
          {
           "fold": [
            "L",
            "R"
           ]
          }
         ],
         "width": 1000
        },
        {
         "encoding": {
          "color": {
           "field": "key",
           "type": "nominal"
          },
          "x": {
           "field": "date",
           "type": "temporal"
          },
          "y": {
           "field": "value",
           "type": "quantitative"
          }
         },
         "mark": {
          "filled": true,
          "opacity": 1,
          "type": "point"
         },
         "selection": {
          "selector002": {
           "empty": "none",
           "fields": [
            "key"
           ],
           "nearest": true,
           "on": "mouseover",
           "type": "single"
          }
         },
         "transform": [
          {
           "fold": [
            "L",
            "R"
           ]
          }
         ]
        }
       ]
      },
      "text/plain": [
       "<VegaLite 4 object>\n",
       "\n",
       "If you see this message, it means the renderer has not been properly enabled\n",
       "for the frontend that you are using. For more information, see\n",
       "https://altair-viz.github.io/user_guide/troubleshooting.html\n"
      ]
     },
     "execution_count": 7,
     "metadata": {},
     "output_type": "execute_result"
    }
   ],
   "source": [
    "# Calve Graph\n",
    "chart = make_chart_LR_hover(5, 6)\n",
    "\n",
    "chart"
   ]
  },
  {
   "cell_type": "code",
   "execution_count": 21,
   "metadata": {},
   "outputs": [
    {
     "data": {
      "application/vnd.vegalite.v4+json": {
       "$schema": "https://vega.github.io/schema/vega-lite/v4.17.0.json",
       "config": {
        "view": {
         "continuousHeight": 300,
         "continuousWidth": 400
        }
       },
       "data": {
        "name": "data-5b86127fb95023b24568cdaf8b3ad50b"
       },
       "datasets": {
        "data-5b86127fb95023b24568cdaf8b3ad50b": [
         {
          "L": 58,
          "R": 59,
          "date": "2021-04-11T00:00:00"
         },
         {
          "L": 58,
          "R": 59,
          "date": "2021-04-18T00:00:00"
         },
         {
          "L": 59,
          "R": 59,
          "date": "2021-04-25T00:00:00"
         },
         {
          "L": 58,
          "R": 59,
          "date": "2021-05-02T00:00:00"
         },
         {
          "L": 59,
          "R": 60,
          "date": "2021-05-09T00:00:00"
         },
         {
          "L": 59.5,
          "R": 60.5,
          "date": "2021-05-16T00:00:00"
         },
         {
          "L": 59.5,
          "R": 60,
          "date": "2021-05-23T00:00:00"
         },
         {
          "L": 59,
          "R": 59,
          "date": "2021-05-30T00:00:00"
         },
         {
          "L": 59,
          "R": 60.5,
          "date": "2021-06-06T00:00:00"
         },
         {
          "L": 59,
          "R": 59.5,
          "date": "2021-06-13T00:00:00"
         },
         {
          "L": 59,
          "R": 60,
          "date": "2021-06-20T00:00:00"
         },
         {
          "L": 60,
          "R": 60,
          "date": "2021-06-27T00:00:00"
         },
         {
          "L": null,
          "R": null,
          "date": "2021-07-04T00:00:00"
         },
         {
          "L": 59.5,
          "R": 60,
          "date": "2021-07-11T00:00:00"
         },
         {
          "L": 59.5,
          "R": 60,
          "date": "2021-07-18T00:00:00"
         },
         {
          "L": 59.5,
          "R": 60,
          "date": "2021-07-25T00:00:00"
         },
         {
          "L": 59.5,
          "R": 59.5,
          "date": "2021-08-01T00:00:00"
         },
         {
          "L": 58,
          "R": 59.5,
          "date": "2021-08-08T00:00:00"
         },
         {
          "L": 58,
          "R": 59,
          "date": "2021-08-15T00:00:00"
         },
         {
          "L": 59.5,
          "R": 59.5,
          "date": "2021-08-22T00:00:00"
         },
         {
          "L": 59.5,
          "R": 60,
          "date": "2021-09-05T00:00:00"
         },
         {
          "L": 59,
          "R": 61,
          "date": "2021-09-12T00:00:00"
         },
         {
          "L": 59.5,
          "R": 60,
          "date": "2021-09-19T00:00:00"
         },
         {
          "L": 61,
          "R": 61,
          "date": "2021-09-26T00:00:00"
         },
         {
          "L": 60,
          "R": 60,
          "date": "2021-10-03T00:00:00"
         },
         {
          "L": 60,
          "R": 60,
          "date": "2021-10-10T00:00:00"
         },
         {
          "L": 58,
          "R": 59,
          "date": "2021-10-17T00:00:00"
         },
         {
          "L": 58,
          "R": 59,
          "date": "2021-10-24T00:00:00"
         },
         {
          "L": 56,
          "R": 58,
          "date": "2021-10-31T00:00:00"
         },
         {
          "L": 58,
          "R": 58.5,
          "date": "2021-11-07T00:00:00"
         },
         {
          "L": 57,
          "R": 58,
          "date": "2021-11-14T00:00:00"
         },
         {
          "L": 56,
          "R": 57,
          "date": "2021-11-21T00:00:00"
         },
         {
          "L": 56,
          "R": 57,
          "date": "2021-11-28T00:00:00"
         },
         {
          "L": 55,
          "R": 56,
          "date": "2021-12-12T00:00:00"
         },
         {
          "L": 55,
          "R": 56,
          "date": "2021-12-19T00:00:00"
         },
         {
          "L": 56,
          "R": 56,
          "date": "2022-01-09T00:00:00"
         },
         {
          "L": 57,
          "R": 58,
          "date": "2022-01-30T00:00:00"
         },
         {
          "L": 57,
          "R": 58,
          "date": "2022-02-06T00:00:00"
         },
         {
          "L": 56,
          "R": 57,
          "date": "2022-02-13T00:00:00"
         },
         {
          "L": 57,
          "R": 57,
          "date": "2022-02-20T00:00:00"
         },
         {
          "L": 58,
          "R": 58,
          "date": "2022-02-27T00:00:00"
         },
         {
          "L": 58.5,
          "R": 59.5,
          "date": "2022-03-06T00:00:00"
         },
         {
          "L": 59.5,
          "R": 60,
          "date": "2022-03-13T00:00:00"
         },
         {
          "L": 59.5,
          "R": 60.5,
          "date": "2022-03-20T00:00:00"
         },
         {
          "L": 58.5,
          "R": 59,
          "date": "2022-03-27T00:00:00"
         },
         {
          "L": 58.5,
          "R": 59.5,
          "date": "2022-04-03T00:00:00"
         },
         {
          "L": 58.5,
          "R": 59,
          "date": "2022-04-10T00:00:00"
         },
         {
          "L": null,
          "R": null,
          "date": "2022-04-17T00:00:00"
         },
         {
          "L": 58,
          "R": 59,
          "date": "2022-04-24T00:00:00"
         },
         {
          "L": 58.5,
          "R": 59,
          "date": "2022-05-01T00:00:00"
         },
         {
          "L": 59.5,
          "R": 61,
          "date": "2022-05-08T00:00:00"
         },
         {
          "L": 60,
          "R": 60.5,
          "date": "2022-05-15T00:00:00"
         },
         {
          "L": 60,
          "R": 60,
          "date": "2022-05-22T00:00:00"
         },
         {
          "L": 58,
          "R": 58,
          "date": "2022-05-29T00:00:00"
         },
         {
          "L": 57,
          "R": 57,
          "date": "2022-06-05T00:00:00"
         },
         {
          "L": 57,
          "R": 57.5,
          "date": "2022-06-12T00:00:00"
         },
         {
          "L": 57,
          "R": 57,
          "date": "2022-06-19T00:00:00"
         },
         {
          "L": 57.5,
          "R": 58,
          "date": "2022-06-26T00:00:00"
         },
         {
          "L": 57,
          "R": 57,
          "date": "2022-07-03T00:00:00"
         },
         {
          "L": 58,
          "R": 58,
          "date": "2022-07-10T00:00:00"
         },
         {
          "L": 57.5,
          "R": 58.5,
          "date": "2022-07-17T00:00:00"
         },
         {
          "L": 58,
          "R": 58.5,
          "date": "2022-07-24T00:00:00"
         },
         {
          "L": 58,
          "R": 58,
          "date": "2022-07-31T00:00:00"
         },
         {
          "L": 57,
          "R": 55.5,
          "date": "2022-08-07T00:00:00"
         },
         {
          "L": 56,
          "R": 58,
          "date": "2022-08-14T00:00:00"
         },
         {
          "L": 57.5,
          "R": 58,
          "date": "2022-08-21T00:00:00"
         },
         {
          "L": 57,
          "R": 57,
          "date": "2022-08-28T00:00:00"
         }
        ]
       },
       "height": 300,
       "layer": [
        {
         "encoding": {
          "color": {
           "field": "key",
           "type": "nominal"
          },
          "tooltip": [
           {
            "field": "date",
            "type": "temporal"
           },
           {
            "field": "value",
            "type": "quantitative"
           }
          ],
          "x": {
           "axis": {
            "grid": true
           },
           "field": "date",
           "sort": "-x",
           "timeUnit": "yearmonthdate",
           "title": "date",
           "type": "temporal"
          },
          "y": {
           "field": "value",
           "impute": {
            "frame": [
             -1,
             1
            ],
            "method": "mean"
           },
           "scale": {
            "zero": false
           },
           "title": "Thighs Size (cm)",
           "type": "quantitative"
          }
         },
         "mark": "line",
         "transform": [
          {
           "fold": [
            "L",
            "R"
           ]
          }
         ],
         "width": 1000
        },
        {
         "encoding": {
          "opacity": {
           "value": 0
          },
          "x": {
           "axis": {
            "grid": true
           },
           "field": "date",
           "sort": "-x",
           "timeUnit": "yearmonthdate",
           "title": "date",
           "type": "temporal"
          }
         },
         "mark": "point",
         "selection": {
          "selector008": {
           "empty": "none",
           "fields": [
            "date"
           ],
           "nearest": true,
           "on": "mouseover",
           "type": "single"
          }
         },
         "transform": [
          {
           "fold": [
            "L",
            "R"
           ]
          }
         ]
        },
        {
         "encoding": {
          "color": {
           "field": "key",
           "type": "nominal"
          },
          "opacity": {
           "condition": {
            "selection": "selector008",
            "value": 1
           },
           "value": 0
          },
          "tooltip": [
           {
            "field": "date",
            "type": "temporal"
           },
           {
            "field": "value",
            "type": "quantitative"
           }
          ],
          "x": {
           "axis": {
            "grid": true
           },
           "field": "date",
           "sort": "-x",
           "timeUnit": "yearmonthdate",
           "title": "date",
           "type": "temporal"
          },
          "y": {
           "field": "value",
           "impute": {
            "frame": [
             -1,
             1
            ],
            "method": "mean"
           },
           "scale": {
            "zero": false
           },
           "title": "Thighs Size (cm)",
           "type": "quantitative"
          }
         },
         "mark": "point",
         "transform": [
          {
           "fold": [
            "L",
            "R"
           ]
          }
         ],
         "width": 1000
        },
        {
         "encoding": {
          "x": {
           "axis": {
            "grid": true
           },
           "field": "date",
           "sort": "-x",
           "timeUnit": "yearmonthdate",
           "title": "date",
           "type": "temporal"
          }
         },
         "mark": {
          "color": "gray",
          "type": "rule"
         },
         "transform": [
          {
           "fold": [
            "L",
            "R"
           ]
          },
          {
           "filter": {
            "selection": "selector008"
           }
          }
         ]
        },
        {
         "encoding": {
          "color": {
           "field": "key",
           "type": "nominal"
          },
          "text": {
           "condition": {
            "field": "Thighs",
            "selection": "selector008",
            "type": "quantitative"
           },
           "value": " "
          },
          "tooltip": [
           {
            "field": "date",
            "type": "temporal"
           },
           {
            "field": "value",
            "type": "quantitative"
           }
          ],
          "x": {
           "axis": {
            "grid": true
           },
           "field": "date",
           "sort": "-x",
           "timeUnit": "yearmonthdate",
           "title": "date",
           "type": "temporal"
          },
          "y": {
           "field": "value",
           "impute": {
            "frame": [
             -1,
             1
            ],
            "method": "mean"
           },
           "scale": {
            "zero": false
           },
           "title": "Thighs Size (cm)",
           "type": "quantitative"
          }
         },
         "mark": {
          "align": "left",
          "dx": 5,
          "dy": -5,
          "type": "text"
         },
         "transform": [
          {
           "fold": [
            "L",
            "R"
           ]
          }
         ],
         "width": 1000
        }
       ],
       "width": 600
      },
      "text/plain": [
       "<VegaLite 4 object>\n",
       "\n",
       "If you see this message, it means the renderer has not been properly enabled\n",
       "for the frontend that you are using. For more information, see\n",
       "https://altair-viz.github.io/user_guide/troubleshooting.html\n"
      ]
     },
     "execution_count": 21,
     "metadata": {},
     "output_type": "execute_result"
    }
   ],
   "source": [
    "# Thighs\n",
    "chart = make_chart_LR_with_hover_tool_tip(7,8)\n",
    "\n",
    "chart"
   ]
  },
  {
   "cell_type": "code",
   "execution_count": 9,
   "metadata": {},
   "outputs": [
    {
     "data": {
      "application/vnd.vegalite.v4+json": {
       "$schema": "https://vega.github.io/schema/vega-lite/v4.17.0.json",
       "config": {
        "view": {
         "continuousHeight": 300,
         "continuousWidth": 400
        }
       },
       "data": {
        "name": "data-ff8031a55406b084d7da0e4dfa3644c5"
       },
       "datasets": {
        "data-ff8031a55406b084d7da0e4dfa3644c5": [
         {
          "L": 28,
          "R": 29,
          "date": "2021-04-11T00:00:00"
         },
         {
          "L": 28,
          "R": 31,
          "date": "2021-04-18T00:00:00"
         },
         {
          "L": 29,
          "R": 30,
          "date": "2021-04-25T00:00:00"
         },
         {
          "L": 28.5,
          "R": 31,
          "date": "2021-05-02T00:00:00"
         },
         {
          "L": 29,
          "R": 29.5,
          "date": "2021-05-09T00:00:00"
         },
         {
          "L": 28.5,
          "R": 29.5,
          "date": "2021-05-16T00:00:00"
         },
         {
          "L": 29,
          "R": 30,
          "date": "2021-05-23T00:00:00"
         },
         {
          "L": 29,
          "R": 30,
          "date": "2021-05-30T00:00:00"
         },
         {
          "L": 29.5,
          "R": 30,
          "date": "2021-06-06T00:00:00"
         },
         {
          "L": 29.5,
          "R": 30,
          "date": "2021-06-13T00:00:00"
         },
         {
          "L": 29.5,
          "R": 30.5,
          "date": "2021-06-20T00:00:00"
         },
         {
          "L": 30,
          "R": 30.5,
          "date": "2021-06-27T00:00:00"
         },
         {
          "L": null,
          "R": null,
          "date": "2021-07-04T00:00:00"
         },
         {
          "L": 30.5,
          "R": 31,
          "date": "2021-07-11T00:00:00"
         },
         {
          "L": 30.5,
          "R": 31,
          "date": "2021-07-18T00:00:00"
         },
         {
          "L": 29.5,
          "R": 30.5,
          "date": "2021-07-25T00:00:00"
         },
         {
          "L": 29.5,
          "R": 30,
          "date": "2021-08-01T00:00:00"
         },
         {
          "L": 30,
          "R": 31,
          "date": "2021-08-08T00:00:00"
         },
         {
          "L": 29.75,
          "R": 30,
          "date": "2021-08-15T00:00:00"
         },
         {
          "L": 30,
          "R": 31,
          "date": "2021-08-22T00:00:00"
         },
         {
          "L": 30.5,
          "R": 31.5,
          "date": "2021-09-05T00:00:00"
         },
         {
          "L": 30.5,
          "R": 31.5,
          "date": "2021-09-12T00:00:00"
         },
         {
          "L": 31,
          "R": 31,
          "date": "2021-09-19T00:00:00"
         },
         {
          "L": 31,
          "R": 32,
          "date": "2021-09-26T00:00:00"
         },
         {
          "L": 31,
          "R": 31,
          "date": "2021-10-03T00:00:00"
         },
         {
          "L": 30.5,
          "R": 31.5,
          "date": "2021-10-10T00:00:00"
         },
         {
          "L": 30,
          "R": 30.5,
          "date": "2021-10-17T00:00:00"
         },
         {
          "L": 30.5,
          "R": 32,
          "date": "2021-10-24T00:00:00"
         },
         {
          "L": 30.5,
          "R": 31,
          "date": "2021-10-31T00:00:00"
         },
         {
          "L": 30,
          "R": 31,
          "date": "2021-11-07T00:00:00"
         },
         {
          "L": 30,
          "R": 30.5,
          "date": "2021-11-14T00:00:00"
         },
         {
          "L": 29.5,
          "R": 29.5,
          "date": "2021-11-21T00:00:00"
         },
         {
          "L": 29,
          "R": 29,
          "date": "2021-11-28T00:00:00"
         },
         {
          "L": 28.5,
          "R": 28,
          "date": "2021-12-12T00:00:00"
         },
         {
          "L": 28.5,
          "R": 29,
          "date": "2021-12-19T00:00:00"
         },
         {
          "L": 30,
          "R": 30,
          "date": "2022-01-09T00:00:00"
         },
         {
          "L": 30,
          "R": 30.5,
          "date": "2022-01-30T00:00:00"
         },
         {
          "L": 29.5,
          "R": 30,
          "date": "2022-02-06T00:00:00"
         },
         {
          "L": 30,
          "R": 30,
          "date": "2022-02-13T00:00:00"
         },
         {
          "L": 30,
          "R": 31,
          "date": "2022-02-20T00:00:00"
         },
         {
          "L": 31,
          "R": 31,
          "date": "2022-02-27T00:00:00"
         },
         {
          "L": 30.5,
          "R": 30.5,
          "date": "2022-03-06T00:00:00"
         },
         {
          "L": 29.5,
          "R": 30.5,
          "date": "2022-03-13T00:00:00"
         },
         {
          "L": 31,
          "R": 31,
          "date": "2022-03-20T00:00:00"
         },
         {
          "L": 29.5,
          "R": 29.5,
          "date": "2022-03-27T00:00:00"
         },
         {
          "L": 30,
          "R": 30.5,
          "date": "2022-04-03T00:00:00"
         },
         {
          "L": 30.5,
          "R": 31,
          "date": "2022-04-10T00:00:00"
         },
         {
          "L": null,
          "R": null,
          "date": "2022-04-17T00:00:00"
         },
         {
          "L": 30.5,
          "R": 31,
          "date": "2022-04-24T00:00:00"
         },
         {
          "L": 31,
          "R": 31.5,
          "date": "2022-05-01T00:00:00"
         },
         {
          "L": 31,
          "R": 32,
          "date": "2022-05-08T00:00:00"
         },
         {
          "L": 31,
          "R": 32,
          "date": "2022-05-15T00:00:00"
         },
         {
          "L": 30,
          "R": 31,
          "date": "2022-05-22T00:00:00"
         },
         {
          "L": 30,
          "R": 30.5,
          "date": "2022-05-29T00:00:00"
         },
         {
          "L": 29,
          "R": 30,
          "date": "2022-06-05T00:00:00"
         },
         {
          "L": 30,
          "R": 30.5,
          "date": "2022-06-12T00:00:00"
         },
         {
          "L": 30.5,
          "R": 31,
          "date": "2022-06-19T00:00:00"
         },
         {
          "L": 30,
          "R": 30.5,
          "date": "2022-06-26T00:00:00"
         },
         {
          "L": 29,
          "R": 30,
          "date": "2022-07-03T00:00:00"
         },
         {
          "L": 29.5,
          "R": 30.5,
          "date": "2022-07-10T00:00:00"
         },
         {
          "L": 30,
          "R": 31,
          "date": "2022-07-17T00:00:00"
         },
         {
          "L": 30,
          "R": 30.5,
          "date": "2022-07-24T00:00:00"
         },
         {
          "L": 29,
          "R": 30,
          "date": "2022-07-31T00:00:00"
         },
         {
          "L": 29.5,
          "R": 30.5,
          "date": "2022-08-07T00:00:00"
         },
         {
          "L": 30,
          "R": 31,
          "date": "2022-08-14T00:00:00"
         },
         {
          "L": 30,
          "R": 31,
          "date": "2022-08-21T00:00:00"
         },
         {
          "L": 30,
          "R": 30.5,
          "date": "2022-08-28T00:00:00"
         }
        ]
       },
       "encoding": {
        "color": {
         "field": "key",
         "type": "nominal"
        },
        "x": {
         "axis": {
          "grid": true
         },
         "field": "date",
         "sort": "-x",
         "timeUnit": "yearmonthdate",
         "title": "date",
         "type": "temporal"
        },
        "y": {
         "field": "value",
         "impute": {
          "frame": [
           -1,
           1
          ],
          "method": "mean"
         },
         "scale": {
          "zero": false
         },
         "title": "Forearm Size (cm)",
         "type": "quantitative"
        }
       },
       "mark": {
        "point": true,
        "type": "line"
       },
       "transform": [
        {
         "fold": [
          "L",
          "R"
         ]
        }
       ],
       "width": 1000
      },
      "text/plain": [
       "<VegaLite 4 object>\n",
       "\n",
       "If you see this message, it means the renderer has not been properly enabled\n",
       "for the frontend that you are using. For more information, see\n",
       "https://altair-viz.github.io/user_guide/troubleshooting.html\n"
      ]
     },
     "execution_count": 9,
     "metadata": {},
     "output_type": "execute_result"
    }
   ],
   "source": [
    "# Forearms\n",
    "chart = make_chart_LR(12,13)\n",
    "\n",
    "chart"
   ]
  },
  {
   "cell_type": "code",
   "execution_count": 10,
   "metadata": {},
   "outputs": [
    {
     "data": {
      "application/vnd.vegalite.v4+json": {
       "$schema": "https://vega.github.io/schema/vega-lite/v4.17.0.json",
       "config": {
        "view": {
         "continuousHeight": 300,
         "continuousWidth": 400
        }
       },
       "data": {
        "name": "data-f3c5541deba64c58154ac125ffc0f579"
       },
       "datasets": {
        "data-f3c5541deba64c58154ac125ffc0f579": [
         {
          "L": 34,
          "R": 34,
          "date": "2021-04-11T00:00:00"
         },
         {
          "L": 34,
          "R": 34,
          "date": "2021-04-18T00:00:00"
         },
         {
          "L": 34,
          "R": 34.5,
          "date": "2021-04-25T00:00:00"
         },
         {
          "L": 34,
          "R": 35,
          "date": "2021-05-02T00:00:00"
         },
         {
          "L": 34,
          "R": 34.5,
          "date": "2021-05-09T00:00:00"
         },
         {
          "L": 34.5,
          "R": 35,
          "date": "2021-05-16T00:00:00"
         },
         {
          "L": 35,
          "R": 35.5,
          "date": "2021-05-23T00:00:00"
         },
         {
          "L": 35.5,
          "R": 35.5,
          "date": "2021-05-30T00:00:00"
         },
         {
          "L": 35.5,
          "R": 36,
          "date": "2021-06-06T00:00:00"
         },
         {
          "L": 35.5,
          "R": 36,
          "date": "2021-06-13T00:00:00"
         },
         {
          "L": 36.5,
          "R": 37,
          "date": "2021-06-20T00:00:00"
         },
         {
          "L": 37.5,
          "R": 37,
          "date": "2021-06-27T00:00:00"
         },
         {
          "L": null,
          "R": null,
          "date": "2021-07-04T00:00:00"
         },
         {
          "L": 36.5,
          "R": 37,
          "date": "2021-07-11T00:00:00"
         },
         {
          "L": 37,
          "R": 37,
          "date": "2021-07-18T00:00:00"
         },
         {
          "L": 37,
          "R": 38,
          "date": "2021-07-25T00:00:00"
         },
         {
          "L": 36,
          "R": 36,
          "date": "2021-08-01T00:00:00"
         },
         {
          "L": 37.5,
          "R": 37,
          "date": "2021-08-08T00:00:00"
         },
         {
          "L": 36.5,
          "R": 36.5,
          "date": "2021-08-15T00:00:00"
         },
         {
          "L": 36,
          "R": 37,
          "date": "2021-08-22T00:00:00"
         },
         {
          "L": 36.5,
          "R": 37.5,
          "date": "2021-09-05T00:00:00"
         },
         {
          "L": 37.5,
          "R": 38,
          "date": "2021-09-12T00:00:00"
         },
         {
          "L": 36.5,
          "R": 38,
          "date": "2021-09-19T00:00:00"
         },
         {
          "L": 38,
          "R": 39,
          "date": "2021-09-26T00:00:00"
         },
         {
          "L": 37,
          "R": 38,
          "date": "2021-10-03T00:00:00"
         },
         {
          "L": 38,
          "R": 39,
          "date": "2021-10-10T00:00:00"
         },
         {
          "L": 37,
          "R": 37.5,
          "date": "2021-10-17T00:00:00"
         },
         {
          "L": 36.5,
          "R": 37,
          "date": "2021-10-24T00:00:00"
         },
         {
          "L": 36,
          "R": 37,
          "date": "2021-10-31T00:00:00"
         },
         {
          "L": 36,
          "R": 36,
          "date": "2021-11-07T00:00:00"
         },
         {
          "L": 36,
          "R": 36.5,
          "date": "2021-11-14T00:00:00"
         },
         {
          "L": 35.5,
          "R": 35.5,
          "date": "2021-11-21T00:00:00"
         },
         {
          "L": 36,
          "R": 36,
          "date": "2021-11-28T00:00:00"
         },
         {
          "L": 35.5,
          "R": 35.5,
          "date": "2021-12-12T00:00:00"
         },
         {
          "L": 34.5,
          "R": 35,
          "date": "2021-12-19T00:00:00"
         },
         {
          "L": 36,
          "R": 36,
          "date": "2022-01-09T00:00:00"
         },
         {
          "L": 36,
          "R": 36,
          "date": "2022-01-30T00:00:00"
         },
         {
          "L": 36,
          "R": 36.5,
          "date": "2022-02-06T00:00:00"
         },
         {
          "L": 36,
          "R": 36,
          "date": "2022-02-13T00:00:00"
         },
         {
          "L": 37,
          "R": 37,
          "date": "2022-02-20T00:00:00"
         },
         {
          "L": 37,
          "R": 37,
          "date": "2022-02-27T00:00:00"
         },
         {
          "L": 37,
          "R": 37.5,
          "date": "2022-03-06T00:00:00"
         },
         {
          "L": 36.5,
          "R": 37,
          "date": "2022-03-13T00:00:00"
         },
         {
          "L": 37,
          "R": 37.5,
          "date": "2022-03-20T00:00:00"
         },
         {
          "L": 36.5,
          "R": 37,
          "date": "2022-03-27T00:00:00"
         },
         {
          "L": 36.5,
          "R": 36,
          "date": "2022-04-03T00:00:00"
         },
         {
          "L": 37,
          "R": 37,
          "date": "2022-04-10T00:00:00"
         },
         {
          "L": null,
          "R": null,
          "date": "2022-04-17T00:00:00"
         },
         {
          "L": 36.5,
          "R": 36.5,
          "date": "2022-04-24T00:00:00"
         },
         {
          "L": 38,
          "R": 38,
          "date": "2022-05-01T00:00:00"
         },
         {
          "L": 36,
          "R": 37.5,
          "date": "2022-05-08T00:00:00"
         },
         {
          "L": 37,
          "R": 37.5,
          "date": "2022-05-15T00:00:00"
         },
         {
          "L": 36,
          "R": 38,
          "date": "2022-05-22T00:00:00"
         },
         {
          "L": 36,
          "R": 36,
          "date": "2022-05-29T00:00:00"
         },
         {
          "L": 36,
          "R": 36,
          "date": "2022-06-05T00:00:00"
         },
         {
          "L": 36,
          "R": 36.5,
          "date": "2022-06-12T00:00:00"
         },
         {
          "L": 36,
          "R": 36.5,
          "date": "2022-06-19T00:00:00"
         },
         {
          "L": 36,
          "R": 38,
          "date": "2022-06-26T00:00:00"
         },
         {
          "L": 36,
          "R": 38,
          "date": "2022-07-03T00:00:00"
         },
         {
          "L": 36,
          "R": 38,
          "date": "2022-07-10T00:00:00"
         },
         {
          "L": 36,
          "R": 38,
          "date": "2022-07-17T00:00:00"
         },
         {
          "L": 36,
          "R": 38,
          "date": "2022-07-24T00:00:00"
         },
         {
          "L": 36,
          "R": 37,
          "date": "2022-07-31T00:00:00"
         },
         {
          "L": 36,
          "R": 36,
          "date": "2022-08-07T00:00:00"
         },
         {
          "L": 36,
          "R": 36,
          "date": "2022-08-14T00:00:00"
         },
         {
          "L": 36,
          "R": 36,
          "date": "2022-08-21T00:00:00"
         },
         {
          "L": 35.5,
          "R": 36,
          "date": "2022-08-28T00:00:00"
         }
        ]
       },
       "layer": [
        {
         "encoding": {
          "color": {
           "field": "key",
           "type": "nominal"
          },
          "size": {
           "condition": {
            "selection": {
             "not": "selector003"
            },
            "value": 1
           },
           "value": 3
          },
          "x": {
           "axis": {
            "grid": true
           },
           "field": "date",
           "sort": "-x",
           "timeUnit": "yearmonthdate",
           "title": "date",
           "type": "temporal"
          },
          "y": {
           "field": "value",
           "impute": {
            "frame": [
             -1,
             1
            ],
            "method": "mean"
           },
           "scale": {
            "zero": false
           },
           "title": "Bicep Size (cm)",
           "type": "quantitative"
          }
         },
         "mark": "line",
         "transform": [
          {
           "fold": [
            "L",
            "R"
           ]
          }
         ],
         "width": 1000
        },
        {
         "encoding": {
          "color": {
           "field": "key",
           "type": "nominal"
          },
          "x": {
           "field": "date",
           "type": "temporal"
          },
          "y": {
           "field": "value",
           "type": "quantitative"
          }
         },
         "mark": {
          "filled": true,
          "opacity": 1,
          "type": "point"
         },
         "selection": {
          "selector003": {
           "empty": "none",
           "fields": [
            "key"
           ],
           "nearest": true,
           "on": "mouseover",
           "type": "single"
          }
         },
         "transform": [
          {
           "fold": [
            "L",
            "R"
           ]
          }
         ]
        }
       ]
      },
      "text/plain": [
       "<VegaLite 4 object>\n",
       "\n",
       "If you see this message, it means the renderer has not been properly enabled\n",
       "for the frontend that you are using. For more information, see\n",
       "https://altair-viz.github.io/user_guide/troubleshooting.html\n"
      ]
     },
     "execution_count": 10,
     "metadata": {},
     "output_type": "execute_result"
    }
   ],
   "source": [
    "# Biceps\n",
    "chart = make_chart_LR_hover(14, 15)\n",
    "\n",
    "chart"
   ]
  }
 ],
 "metadata": {
  "kernelspec": {
   "display_name": "Python 3.10.5 64-bit",
   "language": "python",
   "name": "python3"
  },
  "language_info": {
   "codemirror_mode": {
    "name": "ipython",
    "version": 3
   },
   "file_extension": ".py",
   "mimetype": "text/x-python",
   "name": "python",
   "nbconvert_exporter": "python",
   "pygments_lexer": "ipython3",
   "version": "3.10.5"
  },
  "orig_nbformat": 4,
  "vscode": {
   "interpreter": {
    "hash": "e7370f93d1d0cde622a1f8e1c04877d8463912d04d973331ad4851f04de6915a"
   }
  }
 },
 "nbformat": 4,
 "nbformat_minor": 2
}
